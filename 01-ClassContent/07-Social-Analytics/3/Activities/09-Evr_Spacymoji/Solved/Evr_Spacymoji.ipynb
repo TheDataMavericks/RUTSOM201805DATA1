{
 "cells": [
  {
   "cell_type": "code",
   "execution_count": 1,
   "metadata": {},
   "outputs": [],
   "source": [
    "import spacy\n",
    "from spacymoji import Emoji"
   ]
  },
  {
   "cell_type": "markdown",
   "metadata": {},
   "source": [
    "This tweet is from a twitter emoji stories account where the entire message is an emoji."
   ]
  },
  {
   "cell_type": "code",
   "execution_count": 2,
   "metadata": {},
   "outputs": [],
   "source": [
    "# \"Miley Cyrus\" in emoji-story form\n",
    "tweet = u\"👩->👸->💇->👱->😛->😦\""
   ]
  },
  {
   "cell_type": "code",
   "execution_count": 3,
   "metadata": {},
   "outputs": [],
   "source": [
    "nlp = spacy.load('en')\n",
    "emoji = Emoji(nlp)\n",
    "nlp.add_pipe(emoji)"
   ]
  },
  {
   "cell_type": "code",
   "execution_count": 4,
   "metadata": {},
   "outputs": [],
   "source": [
    "doc = nlp(tweet)"
   ]
  },
  {
   "cell_type": "code",
   "execution_count": 5,
   "metadata": {},
   "outputs": [
    {
     "data": {
      "text/plain": [
       "[('👩', 0, 'woman'),\n",
       " ('👸', 2, 'princess'),\n",
       " ('💇', 4, 'person getting haircut'),\n",
       " ('👱', 6, 'blond-haired person'),\n",
       " ('😛', 8, 'face with tongue'),\n",
       " ('😦', 11, 'frowning face with open mouth')]"
      ]
     },
     "execution_count": 5,
     "metadata": {},
     "output_type": "execute_result"
    }
   ],
   "source": [
    "# Decoded emoji a.k.a. \"Miley Cyrus\"\n",
    "doc._.emoji"
   ]
  }
 ],
 "metadata": {
  "kernelspec": {
   "display_name": "dev",
   "language": "python",
   "name": "dev"
  },
  "language_info": {
   "codemirror_mode": {
    "name": "ipython",
    "version": 3
   },
   "file_extension": ".py",
   "mimetype": "text/x-python",
   "name": "python",
   "nbconvert_exporter": "python",
   "pygments_lexer": "ipython3",
   "version": "3.6.5"
  }
 },
 "nbformat": 4,
 "nbformat_minor": 2
}

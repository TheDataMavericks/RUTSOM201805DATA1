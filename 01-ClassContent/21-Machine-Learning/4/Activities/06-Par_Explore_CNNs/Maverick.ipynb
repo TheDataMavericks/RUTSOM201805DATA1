{
 "cells": [
  {
   "cell_type": "code",
   "execution_count": 1,
   "metadata": {},
   "outputs": [
    {
     "name": "stderr",
     "output_type": "stream",
     "text": [
      "C:\\Users\\stumo\\Anaconda3\\lib\\site-packages\\h5py\\__init__.py:36: FutureWarning: Conversion of the second argument of issubdtype from `float` to `np.floating` is deprecated. In future, it will be treated as `np.float64 == np.dtype(float).type`.\n",
      "  from ._conv import register_converters as _register_converters\n",
      "Using TensorFlow backend.\n"
     ]
    }
   ],
   "source": [
    "import os\n",
    "import io\n",
    "import numpy as np\n",
    "\n",
    "import keras\n",
    "from keras.preprocessing import image\n",
    "from keras.preprocessing.image import img_to_array\n",
    "from keras.applications.xception import (\n",
    "   Xception, preprocess_input, decode_predictions)\n",
    "from keras import backend as K\n",
    "\n",
    "from flask import Flask, request, redirect, url_for, jsonify"
   ]
  },
  {
   "cell_type": "code",
   "execution_count": 2,
   "metadata": {},
   "outputs": [],
   "source": [
    "app = Flask(__name__)\n",
    "app.config['UPLOAD_FOLDER'] = 'Uploads'"
   ]
  },
  {
   "cell_type": "code",
   "execution_count": 3,
   "metadata": {},
   "outputs": [],
   "source": [
    "model = None\n",
    "graph = None\n",
    "\n",
    "def load_model():\n",
    "   global model\n",
    "   global graph\n",
    "   # @TODO: YOUR CODE HERE\n",
    "   model = Xception(weights=\"imagenet\")\n",
    "   graph = K.get_session().graph\n",
    "\n",
    "\n",
    "load_model()"
   ]
  },
  {
   "cell_type": "code",
   "execution_count": 4,
   "metadata": {},
   "outputs": [],
   "source": [
    "def prepare_image(img):\n",
    "   img = img_to_array(img)\n",
    "   img = np.expand_dims(img, axis=0)\n",
    "   img = preprocess_input(img)\n",
    "   # return the processed image\n",
    "   return img"
   ]
  },
  {
   "cell_type": "code",
   "execution_count": 5,
   "metadata": {},
   "outputs": [],
   "source": [
    "@app.route('/', methods=['GET', 'POST'])\n",
    "def upload_file():\n",
    "   data = {\"success\": False}\n",
    "   if request.method == 'POST':\n",
    "       if request.files.get('file'):\n",
    "           # read the file\n",
    "           file = request.files['file']\n",
    "\n",
    "           # read the filename\n",
    "           filename = file.filename\n",
    "\n",
    "           # create a path to the uploads folder\n",
    "           filepath = os.path.join(app.config['UPLOAD_FOLDER'], filename)\n",
    "\n",
    "           file.save(filepath)\n"
   ]
  },
  {
   "cell_type": "code",
   "execution_count": 10,
   "metadata": {},
   "outputs": [
    {
     "ename": "NameError",
     "evalue": "name 'filepath' is not defined",
     "output_type": "error",
     "traceback": [
      "\u001b[1;31m---------------------------------------------------------------------------\u001b[0m",
      "\u001b[1;31mNameError\u001b[0m                                 Traceback (most recent call last)",
      "\u001b[1;32m<ipython-input-10-386980ffaddf>\u001b[0m in \u001b[0;36m<module>\u001b[1;34m()\u001b[0m\n\u001b[0;32m      1\u001b[0m \u001b[0mimage_size\u001b[0m \u001b[1;33m=\u001b[0m \u001b[1;33m(\u001b[0m\u001b[1;36m299\u001b[0m\u001b[1;33m,\u001b[0m \u001b[1;36m299\u001b[0m\u001b[1;33m)\u001b[0m\u001b[1;33m\u001b[0m\u001b[0m\n\u001b[1;32m----> 2\u001b[1;33m \u001b[0mim\u001b[0m \u001b[1;33m=\u001b[0m \u001b[0mkeras\u001b[0m\u001b[1;33m.\u001b[0m\u001b[0mpreprocessing\u001b[0m\u001b[1;33m.\u001b[0m\u001b[0mimage\u001b[0m\u001b[1;33m.\u001b[0m\u001b[0mload_img\u001b[0m\u001b[1;33m(\u001b[0m\u001b[0mfilepath\u001b[0m\u001b[1;33m,\u001b[0m\u001b[0mtarget_size\u001b[0m\u001b[1;33m=\u001b[0m \u001b[0mimage_size\u001b[0m\u001b[1;33m,\u001b[0m\u001b[0mgrayscale\u001b[0m\u001b[1;33m=\u001b[0m\u001b[1;32mFalse\u001b[0m\u001b[1;33m)\u001b[0m\u001b[1;33m\u001b[0m\u001b[0m\n\u001b[0m",
      "\u001b[1;31mNameError\u001b[0m: name 'filepath' is not defined"
     ]
    }
   ],
   "source": [
    "image_size = (299, 299)\n",
    "im = keras.preprocessing.image.load_img(filepath,target_size= image_size,grayscale=False)"
   ]
  },
  {
   "cell_type": "code",
   "execution_count": 8,
   "metadata": {},
   "outputs": [
    {
     "ename": "IndentationError",
     "evalue": "unexpected indent (<ipython-input-8-5654121507da>, line 3)",
     "output_type": "error",
     "traceback": [
      "\u001b[1;36m  File \u001b[1;32m\"<ipython-input-8-5654121507da>\"\u001b[1;36m, line \u001b[1;32m3\u001b[0m\n\u001b[1;33m    image_size = (299, 299)\u001b[0m\n\u001b[1;37m    ^\u001b[0m\n\u001b[1;31mIndentationError\u001b[0m\u001b[1;31m:\u001b[0m unexpected indent\n"
     ]
    }
   ],
   "source": [
    "  # Load the saved image using Keras and resize it to the Xception format of 299x299 pixels\n",
    "    # @TODO: YOUR CODE HERE\n",
    "            \n",
    "            "
   ]
  },
  {
   "cell_type": "code",
   "execution_count": null,
   "metadata": {},
   "outputs": [],
   "source": [
    " # preprocess the image and prepare it for classification\n",
    "           image = prepare_image(im)\n",
    "\n",
    "           global graph\n",
    "           with graph.as_default():\n",
    "               preds = model.predict(image)\n",
    "               results = decode_predictions(preds)\n",
    "\n",
    "               #display results\n",
    "               print(results)\n",
    "\n",
    "               data[\"predictions\"] =[]"
   ]
  },
  {
   "cell_type": "code",
   "execution_count": null,
   "metadata": {},
   "outputs": [],
   "source": [
    " # loop over the results and add them to the list of\n",
    "           # returned predictions\n",
    "           for (imagenetID, label, prob) in results[0]:\n",
    "               r = {\"label\": label,\"probability\":float(prob)}\n",
    "               data[\"predictions\"].append(r)\n",
    "\n",
    "           # indicate that the request was a success\n",
    "           data[\"success\"] = True\n",
    "\n",
    "       return jsonify(data)\n",
    "   return '''\n",
    "   <!doctype html>\n",
    "   <title>Upload new File</title>\n",
    "   <h1>Upload new File</h1>\n",
    "   <form method=post enctype=multipart/form-data>\n",
    "     <p><input type=file name=file>\n",
    "        <input type=submit value=Upload>\n",
    "   </form>\n",
    "   '''"
   ]
  },
  {
   "cell_type": "code",
   "execution_count": null,
   "metadata": {},
   "outputs": [],
   "source": [
    "if __name__ == \"__main__\":\n",
    "   app.run(debug=True)"
   ]
  },
  {
   "cell_type": "code",
   "execution_count": null,
   "metadata": {},
   "outputs": [],
   "source": []
  },
  {
   "cell_type": "code",
   "execution_count": null,
   "metadata": {},
   "outputs": [],
   "source": [
    "import os\n",
    "import io\n",
    "import numpy as np\n",
    "\n",
    "import keras\n",
    "from keras.preprocessing import image\n",
    "from keras.preprocessing.image import img_to_array\n",
    "from keras.applications.xception import (\n",
    "   Xception, preprocess_input, decode_predictions)\n",
    "from keras import backend as K\n",
    "\n",
    "from flask import Flask, request, redirect, url_for, jsonify\n",
    "\n",
    "app = Flask(__name__)\n",
    "app.config['UPLOAD_FOLDER'] = 'Uploads'\n",
    "\n",
    "model = None\n",
    "graph = None\n",
    "\n",
    "\n",
    "def load_model():\n",
    "   global model\n",
    "   global graph\n",
    "   # @TODO: YOUR CODE HERE\n",
    "   model = Xception(weights=\"imagenet\")\n",
    "   graph = K.get_session().graph\n",
    "\n",
    "\n",
    "load_model()\n",
    "\n",
    "def prepare_image(img):\n",
    "   img = img_to_array(img)\n",
    "   img = np.expand_dims(img, axis=0)\n",
    "   img = preprocess_input(img)\n",
    "   # return the processed image\n",
    "   return img\n",
    "\n",
    "@app.route('/', methods=['GET', 'POST'])\n",
    "def upload_file():\n",
    "   data = {\"success\": False}\n",
    "   if request.method == 'POST':\n",
    "       if request.files.get('file'):\n",
    "           # read the file\n",
    "           file = request.files['file']\n",
    "\n",
    "           # read the filename\n",
    "           filename = file.filename\n",
    "\n",
    "           # create a path to the uploads folder\n",
    "           filepath = os.path.join(app.config['UPLOAD_FOLDER'], filename)\n",
    "\n",
    "           file.save(filepath)\n",
    "\n",
    "           # Load the saved image using Keras and resize it to the Xception format of 299x299 pixels\n",
    "           # @TODO: YOUR CODE HERE\n",
    "           image_size = (299, 299)\n",
    "           im = keras.preprocessing.image.load_img(filepath,\n",
    "               target_size= image_size,\n",
    "               grayscale=False)\n",
    "\n",
    "           # preprocess the image and prepare it for classification\n",
    "           image = prepare_image(im)\n",
    "\n",
    "           global graph\n",
    "           with graph.as_default():\n",
    "               preds = model.predict(image)\n",
    "               results = decode_predictions(preds)\n",
    "\n",
    "               #display results\n",
    "               print(results)\n",
    "\n",
    "               data[\"predictions\"] =[]\n",
    "\n",
    "           # loop over the results and add them to the list of\n",
    "           # returned predictions\n",
    "           for (imagenetID, label, prob) in results[0]:\n",
    "               r = {\"label\": label,\"probability\":float(prob)}\n",
    "               data[\"predictions\"].append(r)\n",
    "\n",
    "           # indicate that the request was a success\n",
    "           data[\"success\"] = True\n",
    "\n",
    "       return jsonify(data)\n",
    "   return '''\n",
    "   <!doctype html>\n",
    "   <title>Upload new File</title>\n",
    "   <h1>Upload new File</h1>\n",
    "   <form method=post enctype=multipart/form-data>\n",
    "     <p><input type=file name=file>\n",
    "        <input type=submit value=Upload>\n",
    "   </form>\n",
    "   '''\n",
    "\n",
    "\n",
    "if __name__ == \"__main__\":\n",
    "   app.run(debug=True)"
   ]
  },
  {
   "cell_type": "code",
   "execution_count": null,
   "metadata": {},
   "outputs": [],
   "source": []
  },
  {
   "cell_type": "code",
   "execution_count": null,
   "metadata": {},
   "outputs": [],
   "source": []
  },
  {
   "cell_type": "code",
   "execution_count": null,
   "metadata": {},
   "outputs": [],
   "source": []
  },
  {
   "cell_type": "code",
   "execution_count": null,
   "metadata": {},
   "outputs": [],
   "source": []
  },
  {
   "cell_type": "code",
   "execution_count": null,
   "metadata": {},
   "outputs": [],
   "source": []
  }
 ],
 "metadata": {
  "kernelspec": {
   "display_name": "Python 3",
   "language": "python",
   "name": "python3"
  },
  "language_info": {
   "codemirror_mode": {
    "name": "ipython",
    "version": 3
   },
   "file_extension": ".py",
   "mimetype": "text/x-python",
   "name": "python",
   "nbconvert_exporter": "python",
   "pygments_lexer": "ipython3",
   "version": "3.6.5"
  }
 },
 "nbformat": 4,
 "nbformat_minor": 2
}
